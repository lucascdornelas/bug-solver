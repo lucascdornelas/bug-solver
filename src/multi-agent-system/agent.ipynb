{
 "cells": [
  {
   "cell_type": "markdown",
   "metadata": {},
   "source": [
    "## Agents Env\n"
   ]
  },
  {
   "cell_type": "markdown",
   "metadata": {},
   "source": [
    "### Agent Workspace Environment\n"
   ]
  },
  {
   "cell_type": "markdown",
   "metadata": {},
   "source": [
    "Each agent work in ubuntu environment:\n",
    "\n",
    "```dockerfile\n",
    "FROM ubuntu:latest\n",
    "\n",
    "RUN apt-get update\n",
    "\n",
    "RUN apt install git -y\n",
    "\n",
    "RUN apt install python3 -y\n",
    "\n",
    "RUN apt install python3-pip -y\n",
    "\n",
    "RUN mkdir -p /agent_workspace\n",
    "\n",
    "WORKDIR /agent_workspace\n",
    "\n",
    "CMD [\"/bin/bash\"]\n",
    "```"
   ]
  },
  {
   "cell_type": "markdown",
   "metadata": {},
   "source": [
    "Create docker image:\n",
    "\n",
    "```bash\n",
    "docker build -t agent_env .\n",
    "```\n"
   ]
  },
  {
   "cell_type": "markdown",
   "metadata": {},
   "source": [
    "Basic prompt for agents:\n",
    "\n",
    "````python\n",
    "\n",
    "prompt = \"\"\"Act as {role}. Your responsibility is {responsibility}.\n",
    "\n",
    "You have access to an Ubuntu environment, previously updated and located in your work folder.```\n",
    "````\n"
   ]
  },
  {
   "cell_type": "markdown",
   "metadata": {},
   "source": [
    "### Create Agent Env\n"
   ]
  },
  {
   "cell_type": "code",
   "execution_count": 1,
   "metadata": {},
   "outputs": [
    {
     "data": {
      "text/plain": [
       "'Container criado com sucesso.'"
      ]
     },
     "execution_count": 1,
     "metadata": {},
     "output_type": "execute_result"
    }
   ],
   "source": [
    "import docker\n",
    "import time\n",
    "\n",
    "client = docker.from_env()\n",
    "container_ref = None\n",
    "CONTAINER_IMAGE = \"agent_env\"\n",
    "\n",
    "def create_container(container_name):\n",
    "    global container_ref\n",
    "\n",
    "    existing_containers = client.containers.list(\n",
    "        all=True, filters={\"name\": CONTAINER_NAME}\n",
    "    )\n",
    "    if existing_containers:\n",
    "        container = existing_containers[0]\n",
    "        if container.status != \"running\":\n",
    "            container.start()\n",
    "            time.sleep(20)\n",
    "        container.reload()\n",
    "        container_ref = container\n",
    "        return \"Container criado com sucesso.\"\n",
    "\n",
    "    container = client.containers.run(\n",
    "        CONTAINER_IMAGE,\n",
    "        name=container_name,\n",
    "        detach=True,\n",
    "        tty=True,\n",
    "        stdin_open=True,\n",
    "        working_dir=\"/agent_workspace\",\n",
    "        command=\"/bin/bash\",\n",
    "    )\n",
    "\n",
    "    time.sleep(20)\n",
    "\n",
    "    container_ref = container\n",
    "    return \"Container criado com sucesso.\"\n",
    "\n",
    "CONTAINER_NAME = \"qa_agent_container\"\n",
    "create_container(CONTAINER_NAME)"
   ]
  },
  {
   "cell_type": "code",
   "execution_count": null,
   "metadata": {},
   "outputs": [],
   "source": [
    "def delete_container(container_name):\n",
    "    existing_containers = client.containers.list(\n",
    "        all=True, filters={\"name\": container_name}\n",
    "    )\n",
    "\n",
    "    if existing_containers:\n",
    "        container = existing_containers[0]\n",
    "        container.stop()\n",
    "        container.remove()\n",
    "        return \"Container deletado com sucesso.\"\n",
    "\n",
    "\n",
    "# CONTAINER_NAME = \"qa_agent_container\"\n",
    "# delete_container(CONTAINER_NAME)"
   ]
  },
  {
   "cell_type": "code",
   "execution_count": 2,
   "metadata": {},
   "outputs": [],
   "source": [
    "def get_container():\n",
    "    global container_ref\n",
    "\n",
    "    if container_ref:\n",
    "        container_ref.reload()\n",
    "        if container_ref.status == \"running\":\n",
    "            return container_ref\n",
    "\n",
    "    containers = client.containers.list(all=True, filters={\"name\": CONTAINER_NAME})\n",
    "    if containers:\n",
    "        container = containers[0]\n",
    "        if container.status != \"running\":\n",
    "            container.start()\n",
    "            time.sleep(60)\n",
    "        container.reload()\n",
    "        container_ref = container\n",
    "        return container\n",
    "\n",
    "    return None"
   ]
  },
  {
   "cell_type": "markdown",
   "metadata": {},
   "source": [
    "### Utils function (get_container)\n"
   ]
  },
  {
   "cell_type": "code",
   "execution_count": 3,
   "metadata": {},
   "outputs": [],
   "source": [
    "from langgraph.prebuilt import create_react_agent\n",
    "from langchain.tools import tool\n",
    "from langchain.prompts import ChatPromptTemplate\n",
    "from langchain_ollama.chat_models import ChatOllama\n",
    "\n",
    "# from langgraph.checkpoint.memory import MemorySaver"
   ]
  },
  {
   "cell_type": "code",
   "execution_count": 4,
   "metadata": {},
   "outputs": [],
   "source": [
    "model_name = \"llama3.1\"\n",
    "# model_name = \"mistral-nemo\"\n",
    "\n",
    "model = ChatOllama(model=model_name)"
   ]
  },
  {
   "cell_type": "markdown",
   "metadata": {},
   "source": [
    "### Run Command Tool (basic tool):\n"
   ]
  },
  {
   "cell_type": "code",
   "execution_count": 5,
   "metadata": {},
   "outputs": [],
   "source": [
    "@tool\n",
    "def terminal(command: str) -> str:\n",
    "    \"\"\"\n",
    "    Execute a shell command to be executed.\n",
    "    \"\"\"\n",
    "    container = get_container()\n",
    "    if not container:\n",
    "        return \"No container found. Please try again.\"\n",
    "\n",
    "    try:\n",
    "        result = container.exec_run(f\"/bin/sh -c '{command}'\")\n",
    "        return result.output.decode(\"utf-8\")\n",
    "\n",
    "    except Exception as e:\n",
    "        return f\"Error executing command: {str(e)}\""
   ]
  },
  {
   "cell_type": "code",
   "execution_count": null,
   "metadata": {},
   "outputs": [],
   "source": [
    "# array of tools available for the agent\n",
    "tools = [terminal]\n",
    "\n",
    "# create the agent executor\n",
    "agent_executor = create_react_agent(\n",
    "    name=\"qa_agent\",\n",
    "    tools=tools,\n",
    "    model=model,\n",
    ")\n",
    "\n",
    "# agent description\n",
    "description = \"\"\"You are a Software Quality Analyst (QA) responsible for setting up and preparing the project environment.  \n",
    "Follow the instructions carefully and execute the tasks precisely.  \n",
    "\n",
    "System Information:\n",
    "- OS: Ubuntu (root access available).\n",
    "- Shell: Bash (no interactive commands allowed).\"\"\""
   ]
  },
  {
   "cell_type": "code",
   "execution_count": 16,
   "metadata": {},
   "outputs": [],
   "source": [
    "planning_prompt = ChatPromptTemplate.from_messages([\n",
    "    (\"system\", description),\n",
    "    (\"user\", \"\"\"You are an expert in software analysis and diagnostics. Your task is to analyze the following request and generate a detailed execution plan to accomplish it.\n",
    "\n",
    "Task:\n",
    "{task}\n",
    "\n",
    "Your execution plan should include:\n",
    "1. Steps to retrieve and set up the repository.\n",
    "2. Instructions to run the unit tests and capture failing test cases.\n",
    "3. Guidelines for diagnosing the failed tests and identifying potential issues.\n",
    "4. Recommendations for improving the code based on the test failures.\n",
    "5. A structured outline for compiling the final technical report.\n",
    "\n",
    "Ensure the plan is clear, logically structured, and executable by a technical professional.\"\"\" )\n",
    "])"
   ]
  },
  {
   "cell_type": "code",
   "execution_count": 18,
   "metadata": {},
   "outputs": [
    {
     "name": "stdout",
     "output_type": "stream",
     "text": [
      "Planned Tasks:\n",
      " **Technical Execution Plan: Analyzing Repository https://github.com/astropy/astropy.git**\n",
      "\n",
      "**Step 1: Retrieve and Setup the Repository (Estimated Time: 15 minutes)**\n",
      "\n",
      "1. **Clone the repository**: Using Bash, execute:\n",
      "   ```bash\n",
      "git clone https://github.com/astropy/astropy.git\n",
      "```\n",
      "   This command clones the Astropy repository onto your local machine.\n",
      "\n",
      "2. **Navigate to the cloned repository**: Execute:\n",
      "   ```\n",
      "cd astropy\n",
      "```\n",
      "\n",
      "3. **Checkout the exact commit d16bfe05a744909de4b27f5875fe0d4ed41ce607**:\n",
      "   ```bash\n",
      "git checkout d16bfe05a744909de4b27f5875fe0d4ed41ce607\n",
      "```\n",
      "   This command checks out the exact commit specified in the task, ensuring we're working with a stable and reproducible environment.\n",
      "\n",
      "**Step 2: Run Unit Tests (Estimated Time: 30 minutes)**\n",
      "\n",
      "1. **Navigate to the tests directory**: Execute:\n",
      "   ```\n",
      "cd tests/\n",
      "```\n",
      "\n",
      "2. **Run the unit tests using the `py.test` command**: Execute:\n",
      "   ```bash\n",
      "pytest --junit-xml=astropy_test_results.xml -v\n",
      "```\n",
      "   This command runs all unit tests in verbose mode and captures the test results, including any failures.\n",
      "\n",
      "**Step 3: Identify Failed Test Cases (Estimated Time: 15 minutes)**\n",
      "\n",
      "1. **Check for `py.test` output indicating failed tests**: In the console output, look for lines indicating failed tests or errors.\n",
      "2. **Capture test failure details**: Save the `junit-xml=astropy_test_results.xml` file, which contains detailed information about each test run, including failures.\n",
      "\n",
      "**Step 4: Diagnose Failed Tests and Identify Potential Issues (Estimated Time: Variable)**\n",
      "\n",
      "1. **Analyze failed tests in the XML report**: Utilize tools or manually inspect `astropy_test_results.xml` to identify patterns of failure.\n",
      "2. **Investigate code changes around commit d16bfe05a744909de4b27f5875fe0d4ed41ce607**: Use Git diff, Git blame, or similar tools to pinpoint specific code modifications that may have caused the test failures.\n",
      "\n",
      "**Step 5: Propose Improvements Based on Identified Problems (Estimated Time: 30 minutes)**\n",
      "\n",
      "1. **Develop hypotheses about the causes of test failure**: Based on your analysis, propose potential root causes for the observed issues.\n",
      "2. **Recommend improvements to the code or testing procedures**: Develop actionable suggestions to address identified problems, potentially including refactoring specific modules, enhancing test coverage, or adjusting testing parameters.\n",
      "\n",
      "**Step 6: Compile Final Technical Report (Estimated Time: 45 minutes)**\n",
      "\n",
      "1. **Create an executive summary**: Highlight key findings and recommendations.\n",
      "2. **Describe repository setup and unit test execution**: Outline the steps taken to clone, checkout, and run tests on the specified commit.\n",
      "3. **Present failed test cases and analysis**: Summarize results from `junit-xml` file and provide insights into potential causes of failure.\n",
      "4. **Offer suggestions for improvement**: Propose concrete actions based on identified problems.\n",
      "\n",
      "**Structured Outline for Final Technical Report:**\n",
      "\n",
      "I. Introduction\n",
      "   - Task description\n",
      "   - Overview of repository and commit d16bfe05a744909de4b27f5875fe0d4ed41ce607\n",
      "\n",
      "II. Methodology\n",
      "   - Repository cloning and setup\n",
      "   - Unit test execution using `py.test`\n",
      "\n",
      "III. Results\n",
      "   - Failed unit tests with details from `junit-xml`\n",
      "   - Hypotheses about the causes of failure\n",
      "\n",
      "IV. Analysis and Diagnosis\n",
      "   - Investigation into code changes around the specified commit\n",
      "   - Discussion on potential issues identified\n",
      "\n",
      "V. Recommendations for Improvement\n",
      "   - Specific suggestions to address test failures\n",
      "   - Potential refactoring, enhanced testing, or adjusted testing parameters\n",
      "\n",
      "VI. Conclusion\n",
      "   - Recap key findings and recommendations\n"
     ]
    }
   ],
   "source": [
    "task = \"\"\"Analyze the repository https://github.com/astropy/astropy.git by checking out the exact commit d16bfe05a744909de4b27f5875fe0d4ed41ce607. Generate a technical report that includes a diagnosis and suggestions for improvement.\n",
    "\n",
    "Your analysis should include:\n",
    "- Running the unit tests and identifying failed test cases.\n",
    "- Examining the cause of failures and diagnosing potential issues.\n",
    "- Proposing improvements based on the identified problems.\n",
    "- Structuring the findings into a clear and concise report.\"\"\"\n",
    "\n",
    "planning_response = model.invoke(planning_prompt.invoke({\"task\": task}))\n",
    "\n",
    "print(\"Planned Tasks:\\n\", planning_response.content)"
   ]
  },
  {
   "cell_type": "code",
   "execution_count": 21,
   "metadata": {},
   "outputs": [],
   "source": [
    "execution_prompt = ChatPromptTemplate.from_messages([\n",
    "    (\"system\", description),\n",
    "    (\"user\", \"Execute the following command and return the result:\\n\\n{task}\")\n",
    "])"
   ]
  },
  {
   "cell_type": "code",
   "execution_count": 22,
   "metadata": {},
   "outputs": [
    {
     "name": "stdout",
     "output_type": "stream",
     "text": [
      "{'messages': [SystemMessage(content='You are a Software Quality Analyst (QA) responsible for setting up and preparing the project environment.  \\nFollow the instructions carefully and execute the tasks precisely.  \\n\\nSystem Information:\\n- OS: Ubuntu (root access available).\\n- Shell: Bash (no interactive commands allowed).', additional_kwargs={}, response_metadata={}, id='2a765e54-153e-466b-b41a-c9d36f117511'), HumanMessage(content=\"Execute the following command and return the result:\\n\\n**Step 1: Retrieve and Setup the Repository (Estimated Time: 15 minutes)**\\n\\n1. **Clone the repository**: Using Bash, execute:\\n   ```bash\\ngit clone https://github.com/astropy/astropy.git\\n```\\n   This command clones the Astropy repository onto your local machine.\\n\\n2. **Navigate to the cloned repository**: Execute:\\n   ```\\ncd astropy\\n```\\n\\n3. **Checkout the exact commit d16bfe05a744909de4b27f5875fe0d4ed41ce607**:\\n   ```bash\\ngit checkout d16bfe05a744909de4b27f5875fe0d4ed41ce607\\n```\\n   This command checks out the exact commit specified in the task, ensuring we're working with a stable and reproducible environment.\", additional_kwargs={}, response_metadata={}, id='f1be547c-1f03-4c50-b893-b7d02d0aaada'), AIMessage(content='', additional_kwargs={}, response_metadata={'model': 'llama3.1', 'created_at': '2025-02-23T20:09:09.2174535Z', 'done': True, 'done_reason': 'stop', 'total_duration': 4768602900, 'load_duration': 18439100, 'prompt_eval_count': 388, 'prompt_eval_duration': 343000000, 'eval_count': 202, 'eval_duration': 4405000000, 'message': Message(role='assistant', content='', images=None, tool_calls=None)}, name='qa_agent', id='run-9d11a843-ab05-47e2-aa5e-5e3ca573c9fc-0', tool_calls=[{'name': 'terminal', 'args': {'command': 'git clone https://github.com/astropy/astropy.git'}, 'id': '725c7201-ba44-469b-8a4c-871062f35f1c', 'type': 'tool_call'}, {'name': 'terminal', 'args': {'command': 'cd astropy'}, 'id': 'c6c77c09-c493-4a0f-aaf4-cc859454f750', 'type': 'tool_call'}, {'name': 'terminal', 'args': {'command': 'git checkout d16bfe05a744909de4b27f5875fe0d4ed41ce607'}, 'id': '36edd624-a4ba-49ab-bc81-931abf960299', 'type': 'tool_call'}], usage_metadata={'input_tokens': 388, 'output_tokens': 202, 'total_tokens': 590}), ToolMessage(content=\"Cloning into 'astropy'...\\nerror: RPC failed; curl 56 GnuTLS recv error (-9): Error decoding the received TLS packet.\\nerror: 1406 bytes of body are still expected\\nfetch-pack: unexpected disconnect while reading sideband packet\\nfatal: early EOF\\nfatal: fetch-pack: invalid index-pack output\\n\", name='terminal', id='445b7b46-ae10-4566-b895-cf6b8bb2d3c3', tool_call_id='725c7201-ba44-469b-8a4c-871062f35f1c'), ToolMessage(content=\"/bin/sh: 1: cd: can't cd to astropy\\n\", name='terminal', id='2ae06391-1147-48c9-a2a6-c3e1b2838aa7', tool_call_id='c6c77c09-c493-4a0f-aaf4-cc859454f750'), ToolMessage(content='fatal: not a git repository (or any of the parent directories): .git\\n', name='terminal', id='bc3c143b-21e4-4e22-9db9-7ed727478aa3', tool_call_id='36edd624-a4ba-49ab-bc81-931abf960299'), AIMessage(content='', additional_kwargs={}, response_metadata={'model': 'llama3.1', 'created_at': '2025-02-23T20:10:45.2549124Z', 'done': True, 'done_reason': 'stop', 'total_duration': 3745686400, 'load_duration': 18746800, 'prompt_eval_count': 483, 'prompt_eval_duration': 257000000, 'eval_count': 160, 'eval_duration': 3465000000, 'message': Message(role='assistant', content='', images=None, tool_calls=None)}, name='qa_agent', id='run-e685714d-2126-4b7f-863a-82879dc64d42-0', tool_calls=[{'name': 'terminal', 'args': {'command': 'cd astropy'}, 'id': '7c3cfdee-4034-491d-a053-b58126aff489', 'type': 'tool_call'}, {'name': 'terminal', 'args': {'command': 'git checkout d16bfe05a744909de4b27f5875fe0d4ed41ce607'}, 'id': 'bcbcca6a-0b3d-49e2-a01c-688b2e298731', 'type': 'tool_call'}], usage_metadata={'input_tokens': 483, 'output_tokens': 160, 'total_tokens': 643}), ToolMessage(content=\"/bin/sh: 1: cd: can't cd to astropy\\n\", name='terminal', id='dbca2e58-60d7-4192-a053-59cc8e417a71', tool_call_id='7c3cfdee-4034-491d-a053-b58126aff489'), ToolMessage(content='fatal: not a git repository (or any of the parent directories): .git\\n', name='terminal', id='225508bc-0789-40c6-82a8-7da9f369da83', tool_call_id='bcbcca6a-0b3d-49e2-a01c-688b2e298731'), AIMessage(content='Based on the error messages, it seems that there was an issue with the `git clone` command. The repository could not be cloned successfully.\\n\\nTo resolve this issue, you can try cloning the repository again using the following command:\\n\\n```bash\\ngit clone https://github.com/astropy/astropy.git\\n```\\n\\nIf this also fails, you may want to check if the URL is correct and if there are any issues with your internet connection.', additional_kwargs={}, response_metadata={'model': 'llama3.1', 'created_at': '2025-02-23T20:10:47.3019393Z', 'done': True, 'done_reason': 'stop', 'total_duration': 1996524400, 'load_duration': 18214800, 'prompt_eval_count': 580, 'prompt_eval_duration': 18000000, 'eval_count': 92, 'eval_duration': 1956000000, 'message': Message(role='assistant', content='Based on the error messages, it seems that there was an issue with the `git clone` command. The repository could not be cloned successfully.\\n\\nTo resolve this issue, you can try cloning the repository again using the following command:\\n\\n```bash\\ngit clone https://github.com/astropy/astropy.git\\n```\\n\\nIf this also fails, you may want to check if the URL is correct and if there are any issues with your internet connection.', images=None, tool_calls=None)}, name='qa_agent', id='run-13f8b3b6-6312-4042-9c41-f133db92eb20-0', usage_metadata={'input_tokens': 580, 'output_tokens': 92, 'total_tokens': 672})]}\n"
     ]
    }
   ],
   "source": [
    "task = \"\"\"**Step 1: Retrieve and Setup the Repository (Estimated Time: 15 minutes)**\n",
    "\n",
    "1. **Clone the repository**: Using Bash, execute:\n",
    "   ```bash\n",
    "git clone https://github.com/astropy/astropy.git\n",
    "```\n",
    "   This command clones the Astropy repository onto your local machine.\n",
    "\n",
    "2. **Navigate to the cloned repository**: Execute:\n",
    "   ```\n",
    "cd astropy\n",
    "```\n",
    "\n",
    "3. **Checkout the exact commit d16bfe05a744909de4b27f5875fe0d4ed41ce607**:\n",
    "   ```bash\n",
    "git checkout d16bfe05a744909de4b27f5875fe0d4ed41ce607\n",
    "```\n",
    "   This command checks out the exact commit specified in the task, ensuring we're working with a stable and reproducible environment.\"\"\"\n",
    "\n",
    "prompt = execution_prompt.invoke({\"task\": task})\n",
    "\n",
    "response = agent_executor.invoke(prompt, {\"recursion_limit\": 100})\n",
    "print(response)"
   ]
  }
 ],
 "metadata": {
  "kernelspec": {
   "display_name": "venv",
   "language": "python",
   "name": "python3"
  },
  "language_info": {
   "codemirror_mode": {
    "name": "ipython",
    "version": 3
   },
   "file_extension": ".py",
   "mimetype": "text/x-python",
   "name": "python",
   "nbconvert_exporter": "python",
   "pygments_lexer": "ipython3",
   "version": "3.10.6"
  }
 },
 "nbformat": 4,
 "nbformat_minor": 2
}
