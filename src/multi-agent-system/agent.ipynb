{
 "cells": [
  {
   "cell_type": "markdown",
   "metadata": {},
   "source": [
    "## Agents Env\n"
   ]
  },
  {
   "cell_type": "markdown",
   "metadata": {},
   "source": [
    "### Agent Workspace Environment\n",
    "\n",
    "Each agent work in ubuntu environment:\n",
    "\n",
    "```dockerfile\n",
    "FROM ubuntu:latest\n",
    "\n",
    "RUN apt-get update\n",
    "\n",
    "RUN apt install git -y\n",
    "\n",
    "RUN mkdir -p /agent_workspace\n",
    "\n",
    "WORKDIR /agent_workspace\n",
    "\n",
    "CMD [\"/bin/bash\"]\n",
    "```\n"
   ]
  },
  {
   "cell_type": "markdown",
   "metadata": {},
   "source": [
    "Create docker image:\n",
    "\n",
    "```bash\n",
    "docker build -t agent_env .\n",
    "```\n"
   ]
  },
  {
   "cell_type": "markdown",
   "metadata": {},
   "source": [
    "Basic prompt for agents:\n",
    "\n",
    "````python\n",
    "\n",
    "prompt = \"\"\"Act as {role}. Your responsibility is {responsibility}.\n",
    "\n",
    "You have access to an Ubuntu environment, previously updated and located in your work folder.```\n",
    "````\n"
   ]
  },
  {
   "cell_type": "markdown",
   "metadata": {},
   "source": [
    "### Create Agent Env\n"
   ]
  },
  {
   "cell_type": "code",
   "execution_count": 83,
   "metadata": {},
   "outputs": [
    {
     "data": {
      "text/plain": [
       "'Container criado com sucesso.'"
      ]
     },
     "execution_count": 83,
     "metadata": {},
     "output_type": "execute_result"
    }
   ],
   "source": [
    "import docker\n",
    "import time\n",
    "\n",
    "client = docker.from_env()\n",
    "container_ref = None\n",
    "CONTAINER_IMAGE = \"agent_env\"\n",
    "\n",
    "\n",
    "def create_container(container_name):\n",
    "    global container_ref\n",
    "\n",
    "    existing_containers = client.containers.list(\n",
    "        all=True, filters={\"name\": CONTAINER_NAME}\n",
    "    )\n",
    "    if existing_containers:\n",
    "        container = existing_containers[0]\n",
    "        if container.status != \"running\":\n",
    "            container.start()\n",
    "            time.sleep(20)\n",
    "        container.reload()\n",
    "        container_ref = container\n",
    "        return \"Container criado com sucesso.\"\n",
    "\n",
    "    container = client.containers.run(\n",
    "        CONTAINER_IMAGE,\n",
    "        name=container_name,\n",
    "        detach=True,\n",
    "        tty=True,\n",
    "        stdin_open=True,\n",
    "        working_dir=\"/agent_workspace\",\n",
    "        command=\"/bin/bash\",\n",
    "    )\n",
    "\n",
    "    time.sleep(20)\n",
    "\n",
    "    container_ref = container\n",
    "    return \"Container criado com sucesso.\"\n",
    "\n",
    "\n",
    "CONTAINER_NAME = \"qa_agent_container\"\n",
    "create_container(CONTAINER_NAME)"
   ]
  },
  {
   "cell_type": "code",
   "execution_count": 74,
   "metadata": {},
   "outputs": [],
   "source": [
    "def delete_container(container_name):\n",
    "    existing_containers = client.containers.list(\n",
    "        all=True, filters={\"name\": container_name}\n",
    "    )\n",
    "\n",
    "    if existing_containers:\n",
    "        container = existing_containers[0]\n",
    "        container.stop()\n",
    "        container.remove()\n",
    "        return \"Container deletado com sucesso.\"\n",
    "\n",
    "\n",
    "# CONTAINER_NAME = \"qa_agent_container\"\n",
    "# delete_container(CONTAINER_NAME)"
   ]
  },
  {
   "cell_type": "code",
   "execution_count": 75,
   "metadata": {},
   "outputs": [],
   "source": [
    "def get_container():\n",
    "    global container_ref\n",
    "\n",
    "    if container_ref:\n",
    "        container_ref.reload()\n",
    "        if container_ref.status == \"running\":\n",
    "            return container_ref\n",
    "\n",
    "    containers = client.containers.list(all=True, filters={\"name\": CONTAINER_NAME})\n",
    "    if containers:\n",
    "        container = containers[0]\n",
    "        if container.status != \"running\":\n",
    "            container.start()\n",
    "            time.sleep(60)\n",
    "        container.reload()\n",
    "        container_ref = container\n",
    "        return container\n",
    "\n",
    "    return None"
   ]
  },
  {
   "cell_type": "markdown",
   "metadata": {},
   "source": [
    "### Utils function (get_container)\n"
   ]
  },
  {
   "cell_type": "code",
   "execution_count": 84,
   "metadata": {},
   "outputs": [],
   "source": [
    "from langchain.agents import Tool\n",
    "from langgraph.prebuilt import create_react_agent\n",
    "from langgraph.checkpoint.memory import MemorySaver\n",
    "from langchain_core.messages import HumanMessage\n",
    "from langchain.tools import tool\n",
    "from langchain.prompts import ChatPromptTemplate\n",
    "\n",
    "\n",
    "\n",
    "from langchain_ollama.chat_models import ChatOllama"
   ]
  },
  {
   "cell_type": "code",
   "execution_count": 85,
   "metadata": {},
   "outputs": [],
   "source": [
    "# model = \"llama3:8b\"\n",
    "model_name = \"mistral-nemo\"\n",
    "\n",
    "# llm = OllamaLLM(model=model_name)\n",
    "model = ChatOllama(model=model_name)"
   ]
  },
  {
   "cell_type": "markdown",
   "metadata": {},
   "source": [
    "### Run Command Tool (basic tool):\n"
   ]
  },
  {
   "cell_type": "code",
   "execution_count": 86,
   "metadata": {},
   "outputs": [],
   "source": [
    "@tool\n",
    "def terminal(command: str) -> str:\n",
    "    \"\"\"\n",
    "    Execute a shell command to be executed.\n",
    "    \"\"\"\n",
    "\n",
    "    container = get_container()\n",
    "    if not container:\n",
    "\n",
    "\n",
    "        return \"No container found. Please try again.\"\n",
    "\n",
    "\n",
    "    try:\n",
    "\n",
    "        result = container.exec_run(f\"/bin/sh -c '{command}'\")\n",
    "\n",
    "        return result.output.decode(\"utf-8\")\n",
    "\n",
    "    except Exception as e:\n",
    "\n",
    "        return f\"Error executing command: {str(e)}\""
   ]
  },
  {
   "cell_type": "code",
   "execution_count": null,
   "metadata": {},
   "outputs": [
    {
     "name": "stdout",
     "output_type": "stream",
     "text": [
      "mkdir (GNU coreutils) 9.4\n",
      "Copyright (C) 2023 Free Software Foundation, Inc.\n",
      "License GPLv3+: GNU GPL version 3 or later <https://gnu.org/licenses/gpl.html>.\n",
      "This is free software: you are free to change and redistribute it.\n",
      "There is NO WARRANTY, to the extent permitted by law.\n",
      "\n",
      "Written by David MacKenzie.\n",
      "\n",
      "\n",
      "projects\n",
      "test\n",
      "\n",
      "\n",
      "\n",
      "projects\n",
      "\n",
      "\n"
     ]
    }
   ],
   "source": [
    "# Test run_command (about mkdir)\n",
    "print(terminal(\"mkdir --version\"))\n",
    "\n",
    "# Test run_command (create directory)\n",
    "print(terminal(\"mkdir test\"))\n",
    "\n",
    "# Test run_command (ls)\n",
    "print(terminal(\"ls\"))\n",
    "\n",
    "# Test run_command (cd test && ls)\n",
    "print(terminal(\"cd test && ls\"))\n",
    "\n",
    "# Test run_command (rm -rf test)\n",
    "print(terminal(\"rm -rf test\"))\n",
    "\n",
    "# Test run_command (ls)\n",
    "print(terminal(\"ls\"))"
   ]
  },
  {
   "cell_type": "code",
   "execution_count": null,
   "metadata": {},
   "outputs": [
    {
     "name": "stdout",
     "output_type": "stream",
     "text": [
      "{'messages': [SystemMessage(content='Act as a Software Quality Analyst (QA). Your responsibility is to evaluate and prepare the project environment.    \\nAdditional information:\\n- The operating system is Ubuntu, with root access.\\n- The terminal is bash and does not accept interactive commands.', additional_kwargs={}, response_metadata={}, id='db9f49ac-48a0-4542-93f3-229a400cc521'), HumanMessage(content=\"You should complete the following tasks: Steps to follow:\\n1. Create the 'projects' folder in the current directory.\\n2. Access the 'projects' folder and clone the repository: https://github.com/astropy/astropy\\n3. Checkout the specific commit: d16bfe05a744909de4b27f5875fe0d4ed41ce607.\", additional_kwargs={}, response_metadata={}, id='e34821d4-86ca-4530-bb55-d68ecd8807fd'), AIMessage(content='', additional_kwargs={}, response_metadata={'model': 'mistral-nemo', 'created_at': '2025-02-19T16:45:54.8272757Z', 'done': True, 'done_reason': 'stop', 'total_duration': 5699553100, 'load_duration': 20071100, 'prompt_eval_count': 194, 'prompt_eval_duration': 478000000, 'eval_count': 78, 'eval_duration': 5198000000, 'message': Message(role='assistant', content='', images=None, tool_calls=None)}, name='qa_agent', id='run-84dba602-40d0-4741-89cd-604420580c28-0', tool_calls=[{'name': 'terminal', 'args': {'command': 'mkdir projects && cd projects && git clone https://github.com/astropy/astropy && cd astropy && git checkout d16bfe05a744909de4b27f5875fe0d4ed41ce607'}, 'id': 'c44a6399-19f9-4fa2-9fd2-ca1ca23cd717', 'type': 'tool_call'}], usage_metadata={'input_tokens': 194, 'output_tokens': 78, 'total_tokens': 272}), ToolMessage(content=\"Cloning into 'astropy'...\\nNote: switching to 'd16bfe05a744909de4b27f5875fe0d4ed41ce607'.\\n\\nYou are in 'detached HEAD' state. You can look around, make experimental\\nchanges and commit them, and you can discard any commits you make in this\\nstate without impacting any branches by switching back to a branch.\\n\\nIf you want to create a new branch to retain commits you create, you may\\ndo so (now or later) by using -c with the switch command. Example:\\n\\n  git switch -c <new-branch-name>\\n\\nOr undo this operation with:\\n\\n  git switch -\\n\\nTurn off this advice by setting config variable advice.detachedHead to false\\n\\nHEAD is now at d16bfe05a7 Merge pull request #12900 from Cadair/custom_compound_model\\n\", name='terminal', id='147b0834-1eed-4dae-bce0-5d9e665bd8a4', tool_call_id='c44a6399-19f9-4fa2-9fd2-ca1ca23cd717'), AIMessage(content=\"I've created the 'projects' folder in the current directory, accessed it, cloned the repository for Astropy, and checked out the specific commit you requested (d16bfe05a744909de4b27f5875fe0d4ed41ce607). You're now in a detached HEAD state. If you'd like to create a new branch from this point, just let me know!\", additional_kwargs={}, response_metadata={'model': 'mistral-nemo', 'created_at': '2025-02-19T16:46:22.3433496Z', 'done': True, 'done_reason': 'stop', 'total_duration': 6773730900, 'load_duration': 19955800, 'prompt_eval_count': 415, 'prompt_eval_duration': 543000000, 'eval_count': 96, 'eval_duration': 6202000000, 'message': Message(role='assistant', content=\"I've created the 'projects' folder in the current directory, accessed it, cloned the repository for Astropy, and checked out the specific commit you requested (d16bfe05a744909de4b27f5875fe0d4ed41ce607). You're now in a detached HEAD state. If you'd like to create a new branch from this point, just let me know!\", images=None, tool_calls=None)}, name='qa_agent', id='run-71c08bbf-7de8-44c4-b5c5-7197975a34fb-0', usage_metadata={'input_tokens': 415, 'output_tokens': 96, 'total_tokens': 511})]}\n"
     ]
    }
   ],
   "source": [
    "tools = [terminal]\n",
    "memory = MemorySaver()\n",
    "agent_executor = create_react_agent(\n",
    "    name=\"qa_agent\",\n",
    "    tools=tools,\n",
    "    model=model,\n",
    ")\n",
    "\n",
    "description = \"\"\"Act as a Software Quality Analyst (QA). Your responsibility is to evaluate and prepare the project environment.    \n",
    "Additional information:\n",
    "- The operating system is Ubuntu, with root access.\n",
    "- The terminal is bash and does not accept interactive commands.\"\"\"\n",
    "\n",
    "prompt_template = ChatPromptTemplate.from_messages(\n",
    "    [\n",
    "        (\n",
    "            \"system\",\n",
    "            description,\n",
    "        ),\n",
    "        (\n",
    "            \"user\",\n",
    "            \"You should complete the following tasks: {tasks}\",\n",
    "        ),\n",
    "    ]\n",
    ")\n",
    "\n",
    "\n",
    "# tasks = \"\"\"Steps to follow:\n",
    "# 1. Create the 'projects' folder in the current directory.\n",
    "# 2. Access the 'projects' folder and clone the repository: https://github.com/astropy/astropy\n",
    "# 3. Checkout the specific commit: d16bfe05a744909de4b27f5875fe0d4ed41ce607.\"\"\"\n",
    "\n",
    "tasks = \"\"\"Steps to follow:\n",
    "1. Install python3, pip3.\n",
    "2. Access the 'projects/astropy' folder and install the requirements.\n",
    "3. Run the tests.\"\"\"\n",
    "\n",
    "prompt = prompt_template.invoke({\"tasks\": tasks})\n",
    "\n",
    "response = agent_executor.invoke(prompt, {\"recursion_limit\": 100})\n",
    "print(response)"
   ]
  }
 ],
 "metadata": {
  "kernelspec": {
   "display_name": "venv",
   "language": "python",
   "name": "python3"
  },
  "language_info": {
   "codemirror_mode": {
    "name": "ipython",
    "version": 3
   },
   "file_extension": ".py",
   "mimetype": "text/x-python",
   "name": "python",
   "nbconvert_exporter": "python",
   "pygments_lexer": "ipython3",
   "version": "3.10.6"
  }
 },
 "nbformat": 4,
 "nbformat_minor": 2
}
